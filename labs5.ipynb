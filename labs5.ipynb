{
 "cells": [
  {
   "cell_type": "code",
   "execution_count": 15,
   "metadata": {},
   "outputs": [
    {
     "name": "stdout",
     "output_type": "stream",
     "text": [
      "VIN (1-10),County,City,State,Postal Code,Model Year,Make,Model,Electric Vehicle Type,Clean Alternative Fuel Vehicle (CAFV) Eligibility,Electric Range,Base MSRP,Legislative District,DOL Vehicle ID,Vehicle Location,Electric Utility,2020 Census Tract\n",
      "\n"
     ]
    }
   ],
   "source": [
    "f = open(\"Electric_Vehicle_Population_Data.csv\", \"r\")\n",
    "f1 = f.readline()\n",
    "print(f1)"
   ]
  },
  {
   "cell_type": "code",
   "execution_count": 16,
   "metadata": {},
   "outputs": [
    {
     "name": "stdout",
     "output_type": "stream",
     "text": [
      "['VIN (1-10)', 'County', 'City', 'State', 'Postal Code', 'Model Year', 'Make', 'Model', 'Electric Vehicle Type', 'Clean Alternative Fuel Vehicle (CAFV) Eligibility', 'Electric Range', 'Base MSRP', 'Legislative District', 'DOL Vehicle ID', 'Vehicle Location', 'Electric Utility', '2020 Census Tract\\n']\n",
      "(0, 'VIN (1-10)')\n",
      "(1, 'County')\n",
      "(2, 'City')\n",
      "(3, 'State')\n",
      "(4, 'Postal Code')\n",
      "(5, 'Model Year')\n",
      "(6, 'Make')\n",
      "(7, 'Model')\n",
      "(8, 'Electric Vehicle Type')\n",
      "(9, 'Clean Alternative Fuel Vehicle (CAFV) Eligibility')\n",
      "(10, 'Electric Range')\n",
      "(11, 'Base MSRP')\n",
      "(12, 'Legislative District')\n",
      "(13, 'DOL Vehicle ID')\n",
      "(14, 'Vehicle Location')\n",
      "(15, 'Electric Utility')\n",
      "(16, '2020 Census Tract\\n')\n"
     ]
    }
   ],
   "source": [
    "f2 = f1.split(\",\")\n",
    "print(f2)\n",
    "for x in enumerate(f2):\n",
    "     print (x)"
   ]
  },
  {
   "cell_type": "code",
   "execution_count": 17,
   "metadata": {},
   "outputs": [],
   "source": [
    "d1 = {\"TESLA\": 0, \"BMW\": 0}"
   ]
  },
  {
   "cell_type": "code",
   "execution_count": 18,
   "metadata": {},
   "outputs": [
    {
     "name": "stdout",
     "output_type": "stream",
     "text": [
      "{'TESLA': 83349, 'BMW': 7856}\n"
     ]
    }
   ],
   "source": [
    "\n",
    "\n",
    "for line in f:\n",
    "    values = line.split(',')\n",
    "    \n",
    "    if values[6] == \"TESLA\":\n",
    "        d1[\"TESLA\"] += 1\n",
    "    \n",
    "\n",
    "    if values[6] == \"BMW\":\n",
    "        d1[\"BMW\"] += 1\n",
    "\n",
    "\n",
    "print(d1)"
   ]
  },
  {
   "cell_type": "code",
   "execution_count": 19,
   "metadata": {},
   "outputs": [
    {
     "name": "stdout",
     "output_type": "stream",
     "text": [
      "{'TESLA': 83349, 'BMW': 7856}\n"
     ]
    }
   ],
   "source": [
    "print(d1)"
   ]
  },
  {
   "cell_type": "code",
   "execution_count": 27,
   "metadata": {},
   "outputs": [
    {
     "name": "stdout",
     "output_type": "stream",
     "text": [
      "{'TESLA': 83349, 'BMW': 7856}\n"
     ]
    }
   ],
   "source": [
    "print(d1)"
   ]
  },
  {
   "cell_type": "code",
   "execution_count": 31,
   "metadata": {},
   "outputs": [
    {
     "name": "stdout",
     "output_type": "stream",
     "text": [
      "The amount of Tesla's in the data set are counted at 83349.\n",
      "The amount of Bmw's in the data set are counted at 7856.\n"
     ]
    }
   ],
   "source": [
    "for key, value in d1.items():\n",
    "    print(f\"The amount of {key.capitalize()}'s in the data set are counted at {value}.\")"
   ]
  }
 ],
 "metadata": {
  "kernelspec": {
   "display_name": "base",
   "language": "python",
   "name": "python3"
  },
  "language_info": {
   "codemirror_mode": {
    "name": "ipython",
    "version": 3
   },
   "file_extension": ".py",
   "mimetype": "text/x-python",
   "name": "python",
   "nbconvert_exporter": "python",
   "pygments_lexer": "ipython3",
   "version": "3.11.5"
  }
 },
 "nbformat": 4,
 "nbformat_minor": 2
}
